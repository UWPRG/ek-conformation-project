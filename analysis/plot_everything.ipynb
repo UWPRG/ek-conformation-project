{
 "cells": [
  {
   "cell_type": "code",
   "execution_count": 1,
   "metadata": {},
   "outputs": [],
   "source": [
    "import pandas as pd\n",
    "import numpy as np\n",
    "import matplotlib.pyplot as plt\n",
    "%matplotlib inline"
   ]
  },
  {
   "cell_type": "code",
   "execution_count": 2,
   "metadata": {},
   "outputs": [],
   "source": [
    "# read in EK\n",
    "ek_structure_frxn = pd.read_csv(\n",
    "    \"secondary_structure/structure_EK.txt\", sep='\\s+', index_col=\"temp\"\n",
    ")\n",
    "ek_structure_salt_bridge_frxn = pd.read_csv(\n",
    "    \"secondary_structure/salt_bridge_per_structure_EK.txt\", sep='\\s+', index_col=\"temp\"\n",
    ")\n",
    "ek_salt_bridge_entropy = pd.read_csv(\n",
    "    \"salt_bridges/temp_compare_EK.txt\", sep='\\s+', index_col=\"temp\"\n",
    ")"
   ]
  },
  {
   "cell_type": "code",
   "execution_count": 3,
   "metadata": {},
   "outputs": [],
   "source": [
    "# read in EKG\n",
    "ekg_structure_frxn = pd.read_csv(\n",
    "    \"secondary_structure/structure_EKG.txt\", sep='\\s+', index_col=\"temp\"\n",
    ")\n",
    "ekg_structure_salt_bridge_frxn = pd.read_csv(\n",
    "    \"secondary_structure/salt_bridge_per_structure_EKG.txt\", sep='\\s+', index_col=\"temp\"\n",
    ")\n",
    "ekg_salt_bridge_entropy = pd.read_csv(\n",
    "    \"salt_bridges/temp_compare_EKG.txt\", sep='\\s+', index_col=\"temp\"\n",
    ")"
   ]
  },
  {
   "cell_type": "code",
   "execution_count": 4,
   "metadata": {},
   "outputs": [],
   "source": [
    "# read in EKGG\n",
    "ekgg_structure_frxn = pd.read_csv(\n",
    "    \"secondary_structure/structure_EKGG.txt\", sep='\\s+', index_col=\"temp\"\n",
    ")\n",
    "ekgg_structure_salt_bridge_frxn = pd.read_csv(\n",
    "    \"secondary_structure/salt_bridge_per_structure_EKGG.txt\", sep='\\s+', index_col=\"temp\"\n",
    ")\n",
    "ekgg_salt_bridge_entropy = pd.read_csv(\n",
    "    \"salt_bridges/temp_compare_EKGG.txt\", sep='\\s+', index_col=\"temp\"\n",
    ")"
   ]
  },
  {
   "cell_type": "code",
   "execution_count": 5,
   "metadata": {},
   "outputs": [],
   "source": [
    "# read in EKGGG\n",
    "ekggg_structure_frxn = pd.read_csv(\n",
    "    \"secondary_structure/structure_EKGGG.txt\", sep='\\s+', index_col=\"temp\"\n",
    ")\n",
    "ekggg_structure_salt_bridge_frxn = pd.read_csv(\n",
    "    \"secondary_structure/salt_bridge_per_structure_EKGGG.txt\", sep='\\s+', index_col=\"temp\"\n",
    ")\n",
    "ekggg_salt_bridge_entropy = pd.read_csv(\n",
    "    \"salt_bridges/temp_compare_EKGGG.txt\", sep='\\s+', index_col=\"temp\"\n",
    ")"
   ]
  },
  {
   "cell_type": "code",
   "execution_count": 12,
   "metadata": {},
   "outputs": [],
   "source": [
    "# read in EGKG\n",
    "egkg_structure_frxn = pd.read_csv(\n",
    "    \"secondary_structure/structure_EGKG.txt\", sep='\\s+', index_col=\"temp\"\n",
    ")\n",
    "egkg_structure_salt_bridge_frxn = pd.read_csv(\n",
    "    \"secondary_structure/salt_bridge_per_structure_EGKG.txt\", sep='\\s+', index_col=\"temp\"\n",
    ")\n",
    "egkg_salt_bridge_entropy = pd.read_csv(\n",
    "    \"salt_bridges/temp_compare_EGKG.txt\", sep='\\s+', index_col=\"temp\"\n",
    ")"
   ]
  },
  {
   "cell_type": "code",
   "execution_count": 13,
   "metadata": {},
   "outputs": [],
   "source": [
    "# read in EKGGG\n",
    "gg_structure_frxn = pd.read_csv(\n",
    "    \"secondary_structure/structure_GG.txt\", sep='\\s+', index_col=\"temp\"\n",
    ")\n",
    "\n",
    "gg_salt_bridge_entropy = pd.read_csv(\n",
    "    \"salt_bridges/temp_compare_GG.txt\", sep='\\s+', index_col=\"temp\"\n",
    ")"
   ]
  },
  {
   "cell_type": "code",
   "execution_count": 25,
   "metadata": {},
   "outputs": [
    {
     "data": {
      "text/plain": [
       "<matplotlib.legend.Legend at 0x110b7c390>"
      ]
     },
     "execution_count": 25,
     "metadata": {},
     "output_type": "execute_result"
    },
    {
     "data": {
      "image/png": "[encoded data removed]",
      "text/plain": [
       "<Figure size 432x288 with 1 Axes>"
      ]
     },
     "metadata": {
      "needs_background": "light"
     },
     "output_type": "display_data"
    }
   ],
   "source": [
    "# compare low temp values on by EK fraction\n",
    "ek_frxn = [0, 0.333, 0.5, 0.5, 0.667, 1.0]\n",
    "# structure fraction\n",
    "structure_frxn_coil = [\n",
    "    ek_structure_frxn.loc[300.0, 'coil'],\n",
    "    ekg_structure_frxn.loc[300.0, 'coil'],\n",
    "    ekgg_structure_frxn.loc[300.0, 'coil'],\n",
    "    egkg_structure_frxn.loc[300.0, 'coil'],\n",
    "    ekggg_structure_frxn.loc[300.0, 'coil'],\n",
    "    gg_structure_frxn.loc[300.0, 'coil'],\n",
    "]\n",
    "structure_frxn_helix = [\n",
    "    ek_structure_frxn.loc[300.0, 'helix'],\n",
    "    ekg_structure_frxn.loc[300.0, 'helix'],\n",
    "    ekgg_structure_frxn.loc[300.0, 'helix'],\n",
    "    egkg_structure_frxn.loc[300.0, 'helix'],\n",
    "    ekggg_structure_frxn.loc[300.0, 'helix'],\n",
    "    gg_structure_frxn.loc[300.0, 'helix'],\n",
    "]\n",
    "structure_frxn_extended = [\n",
    "    ek_structure_frxn.loc[300.0, 'extended'],\n",
    "    ekg_structure_frxn.loc[300.0, 'extended'],\n",
    "    ekgg_structure_frxn.loc[300.0, 'extended'],\n",
    "    egkg_structure_frxn.loc[300.0, 'extended'],\n",
    "    ekggg_structure_frxn.loc[300.0, 'extended'],\n",
    "    gg_structure_frxn.loc[300.0, 'extended'],\n",
    "]\n",
    "\n",
    "plt.plot(ek_frxn, structure_frxn_coil, label='coil', marker='o')\n",
    "plt.plot(ek_frxn, structure_frxn_extended, label='extended', marker='o')\n",
    "plt.plot(ek_frxn, structure_frxn_helix, label='helix', marker='o')\n",
    "plt.xlabel('fraction G')\n",
    "plt.legend()"
   ]
  },
  {
   "cell_type": "code",
   "execution_count": 27,
   "metadata": {},
   "outputs": [
    {
     "data": {
      "image/png": "[encoded data removed]",
      "text/plain": [
       "<Figure size 432x288 with 2 Axes>"
      ]
     },
     "metadata": {
      "needs_background": "light"
     },
     "output_type": "display_data"
    }
   ],
   "source": [
    "# compare low temp values on by EK fraction\n",
    "ek_frxn = [0, 0.333, 0.5, 0.5, 0.667, 1.0]\n",
    "\n",
    "conf_entropy = [\n",
    "    ek_salt_bridge_entropy.loc[300, 'conf_entropy'] / gg_salt_bridge_entropy.loc[300, 'conf_entropy'], \n",
    "    ekg_salt_bridge_entropy.loc[300, 'conf_entropy'] / gg_salt_bridge_entropy.loc[300, 'conf_entropy'], \n",
    "    ekgg_salt_bridge_entropy.loc[300, 'conf_entropy'] / gg_salt_bridge_entropy.loc[300, 'conf_entropy'], \n",
    "    egkg_salt_bridge_entropy.loc[300, 'conf_entropy'] / gg_salt_bridge_entropy.loc[300, 'conf_entropy'], \n",
    "    ekggg_salt_bridge_entropy.loc[300, 'conf_entropy'] / gg_salt_bridge_entropy.loc[300, 'conf_entropy'], \n",
    "    gg_salt_bridge_entropy.loc[300, 'conf_entropy'] / gg_salt_bridge_entropy.loc[300, 'conf_entropy'], \n",
    "]\n",
    "salt_bridges = [\n",
    "    ek_salt_bridge_entropy.loc[300, 'salt_bridges'] / 15, \n",
    "    ekg_salt_bridge_entropy.loc[300, 'salt_bridges'] / 10,\n",
    "    ekgg_salt_bridge_entropy.loc[300, 'salt_bridges'] / 7,\n",
    "    egkg_salt_bridge_entropy.loc[300, 'salt_bridges'] / 7,\n",
    "    ekggg_salt_bridge_entropy.loc[300, 'salt_bridges'] / 6,\n",
    "    gg_salt_bridge_entropy.loc[300, 'salt_bridges'],\n",
    "]\n",
    "plt.scatter(\n",
    "    conf_entropy, \n",
    "    salt_bridges, \n",
    "    c=ek_frxn,\n",
    ")\n",
    "cbar = plt.colorbar()\n",
    "# plt.savefig('e.png', dpi=300, bbox_inches='tight')"
   ]
  },
  {
   "cell_type": "code",
   "execution_count": null,
   "metadata": {},
   "outputs": [],
   "source": []
  }
 ],
 "metadata": {
  "anaconda-cloud": {},
  "kernelspec": {
   "display_name": "ek-project",
   "language": "python",
   "name": "ek-project"
  },
  "language_info": {
   "codemirror_mode": {
    "name": "ipython",
    "version": 3
   },
   "file_extension": ".py",
   "mimetype": "text/x-python",
   "name": "python",
   "nbconvert_exporter": "python",
   "pygments_lexer": "ipython3",
   "version": "3.6.4"
  }
 },
 "nbformat": 4,
 "nbformat_minor": 2
}
