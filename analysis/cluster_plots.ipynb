{
 "cells": [
  {
   "cell_type": "code",
   "execution_count": 39,
   "metadata": {},
   "outputs": [],
   "source": [
    "import pandas as pd\n",
    "import numpy as np\n",
    "import matplotlib.pyplot as plt\n",
    "%matplotlib inline"
   ]
  },
  {
   "cell_type": "code",
   "execution_count": 40,
   "metadata": {},
   "outputs": [],
   "source": [
    "def plot_cdf(clust_file, label=None, color=\"tab:red\", alpha=0.6, num_bold=None):\n",
    "    # read clustering results from file and sort by clust weight\n",
    "    df = pd.read_csv(clust_file)[1:] # ignore clust 0 (collection of unclustered structure)\n",
    "    df.sort_values(\"norm_wt\", ascending=False, inplace=True)\n",
    "    # create cumulative distribution function from ordered weights\n",
    "    cdf = df['norm_wt'].cumsum()\n",
    "    \n",
    "    # plot cdf\n",
    "    plt.plot(\n",
    "        range(1, len(cdf) + 1),\n",
    "        cdf.values,\n",
    "        linestyle='none',\n",
    "        marker='o',\n",
    "        color=color,\n",
    "        alpha=alpha,\n",
    "        label=label,\n",
    "    )\n",
    "    \n",
    "    # highlight first num_bold points\n",
    "    if num_bold is not None:\n",
    "        # plot g30 300K cdf\n",
    "        plt.plot(\n",
    "            range(1, num_bold + 1), \n",
    "            cdf.values[:num_bold],\n",
    "            linestyle='none', \n",
    "            marker='o',\n",
    "            color=color,\n",
    "            alpha=1,\n",
    "        )\n",
    "    return cdf"
   ]
  },
  {
   "cell_type": "markdown",
   "metadata": {},
   "source": [
    "# Figure 3"
   ]
  },
  {
   "cell_type": "code",
   "execution_count": 41,
   "metadata": {},
   "outputs": [
    {
     "data": {
      "image/png": "[encoded data removed]",
      "text/plain": [
       "<Figure size 360x360 with 1 Axes>"
      ]
     },
     "metadata": {
      "needs_background": "light"
     },
     "output_type": "display_data"
    }
   ],
   "source": [
    "plt.figure(figsize=(5, 5))\n",
    "\n",
    "# plot cumulative distribution functions\n",
    "ek_300 = plot_cdf(\"clustering/EK_0.5.txt\", label=\"(EK)15 300 K\", num_bold=3)\n",
    "ek_374 = plot_cdf(\"clustering/EK_0.5_374.txt\", label=\"(EK)15 374 K\", alpha=0.4)\n",
    "ek_450 = plot_cdf(\"clustering/EK_0.5_450.txt\", label=\"(EK)15 450 K\", alpha=0.2)\n",
    "gg_300 = plot_cdf(\"clustering/GG_0.5.txt\", color=\"tab:gray\", label=\"G30 300 K\", num_bold=3)\n",
    "\n",
    "# set plot properties\n",
    "plt.xlim([0, 50])\n",
    "plt.ylim([0, 1.05])\n",
    "plt.xlabel('N (number of clusters)')\n",
    "plt.ylabel('F(N)')\n",
    "plt.legend()\n",
    "plt.savefig('ek-gg-cluster-cdf.png', dpi=300, bbox_inches='tight')"
   ]
  },
  {
   "cell_type": "code",
   "execution_count": 42,
   "metadata": {},
   "outputs": [
    {
     "data": {
      "text/plain": [
       "1     0.895596\n",
       "3     0.954665\n",
       "19    0.964513\n",
       "Name: norm_wt, dtype: float64"
      ]
     },
     "execution_count": 42,
     "metadata": {},
     "output_type": "execute_result"
    }
   ],
   "source": [
    "ek_300[:3]"
   ]
  },
  {
   "cell_type": "code",
   "execution_count": 43,
   "metadata": {},
   "outputs": [
    {
     "data": {
      "text/plain": [
       "3     0.136586\n",
       "10    0.173377\n",
       "6     0.205744\n",
       "Name: norm_wt, dtype: float64"
      ]
     },
     "execution_count": 43,
     "metadata": {},
     "output_type": "execute_result"
    }
   ],
   "source": [
    "gg_300[:3]"
   ]
  },
  {
   "cell_type": "code",
   "execution_count": null,
   "metadata": {},
   "outputs": [],
   "source": []
  },
  {
   "cell_type": "markdown",
   "metadata": {},
   "source": [
    "### show effect of gromos clustering cutoff on CDF for (EK)15 at 300 K"
   ]
  },
  {
   "cell_type": "code",
   "execution_count": 44,
   "metadata": {},
   "outputs": [
    {
     "data": {
      "image/png": "[encoded data removed]",
      "text/plain": [
       "<Figure size 360x360 with 1 Axes>"
      ]
     },
     "metadata": {
      "needs_background": "light"
     },
     "output_type": "display_data"
    }
   ],
   "source": [
    "plt.figure(figsize=(5, 5))\n",
    "\n",
    "ek_5 = plot_cdf(\"clustering/EK_0.5.txt\", label=\"0.5 nm\")\n",
    "ek_4 = plot_cdf(\"clustering/EK_0.4.txt\", label=\"0.4 nm\", color=\"tab:blue\")\n",
    "ek_3 = plot_cdf(\"clustering/EK_0.3.txt\", label=\"0.3 nm\", color=\"tab:orange\")\n",
    "\n",
    "# line at probability for first EK300 cluster\n",
    "plt.plot(\n",
    "    [0, 100], \n",
    "    [ek_5.values[0], ek_5.values[0]], \n",
    "    ls='--', \n",
    "    color='tab:gray',\n",
    "    alpha=0.3,\n",
    ")\n",
    "\n",
    "plt.xlim([0, 30])\n",
    "plt.ylim([0, 1.05])\n",
    "plt.legend()\n",
    "plt.savefig('ek-vary-cutoff-cluster.png', dpi=300, bbox_inches='tight')"
   ]
  },
  {
   "cell_type": "code",
   "execution_count": 38,
   "metadata": {},
   "outputs": [],
   "source": [
    "# include pic of clust 1 struct vs. clust 2 struct for 0.5 and 0.3"
   ]
  },
  {
   "cell_type": "code",
   "execution_count": null,
   "metadata": {},
   "outputs": [],
   "source": []
  }
 ],
 "metadata": {
  "anaconda-cloud": {},
  "kernelspec": {
   "display_name": "ek-conformation-project",
   "language": "python",
   "name": "ek-conformation-project"
  },
  "language_info": {
   "codemirror_mode": {
    "name": "ipython",
    "version": 3
   },
   "file_extension": ".py",
   "mimetype": "text/x-python",
   "name": "python",
   "nbconvert_exporter": "python",
   "pygments_lexer": "ipython3",
   "version": "3.7.3"
  }
 },
 "nbformat": 4,
 "nbformat_minor": 2
}
